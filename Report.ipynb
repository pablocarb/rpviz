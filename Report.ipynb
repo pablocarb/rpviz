{
 "cells": [
  {
   "cell_type": "markdown",
   "metadata": {},
   "source": [
    "<cite data-cite=\"6818480/M6HWC9V6\"></cite>"
   ]
  },
  {
   "cell_type": "markdown",
   "metadata": {},
   "source": [
    "<h3>Bibliography</h3>"
   ]
  },
  {
   "cell_type": "markdown",
   "metadata": {},
   "source": [
    "<div class=\"cite2c-biblio\"></div>"
   ]
  },
  {
   "cell_type": "code",
   "execution_count": null,
   "metadata": {},
   "outputs": [],
   "source": []
  }
 ],
 "metadata": {
  "cite2c": {
   "citations": {
    "6818480/M6HWC9V6": {
     "URL": "http://presse.inra.fr%2FCommuniques-de-presse%2Fprojet-francais-IBISBA",
     "abstract": "L’ESFRI a présenté le 11 septembre 2018 à Vienne (Autriche) sa feuille de route 2018. Parmi les projets sélectionnés pour la feuille de route européenne des infrastructures de recherche, le projet porté par la France, IBISBA, a pour ambition de fédérer les forces de R&D européennes pour créer une infrastructure de recherche dédiée au développement de la biotechnologie industrielle. Coordonné par l’Inra, il rassemble 14 partenaires. La vocation du projet : augmenter les interactions entre les laboratoires publics et la recherche industrielle, afin d’accélérer la production de connaissances et leurs applications.",
     "accessed": {
      "day": 4,
      "month": 6,
      "year": 2019
     },
     "author": [
      {
       "family": "INRA",
       "given": ""
      }
     ],
     "id": "6818480/M6HWC9V6",
     "issued": {
      "day": 11,
      "month": 9,
      "year": 2018
     },
     "language": "fr",
     "shortTitle": "Développement de la biotechnologie industrielle",
     "title": "Développement de la biotechnologie industrielle : une reconnaissance européenne pour le projet français IBISBA",
     "title-short": "Développement de la biotechnologie industrielle",
     "type": "webpage"
    }
   }
  },
  "kernelspec": {
   "display_name": "Python 3",
   "language": "python",
   "name": "python3"
  },
  "language_info": {
   "codemirror_mode": {
    "name": "ipython",
    "version": 3
   },
   "file_extension": ".py",
   "mimetype": "text/x-python",
   "name": "python",
   "nbconvert_exporter": "python",
   "pygments_lexer": "ipython3",
   "version": "3.7.3"
  }
 },
 "nbformat": 4,
 "nbformat_minor": 2
}
